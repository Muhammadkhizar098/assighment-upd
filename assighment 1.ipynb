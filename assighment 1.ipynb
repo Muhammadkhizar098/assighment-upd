{
 "cells": [
  {
   "cell_type": "raw",
   "id": "454198f9-972c-4c11-bf84-7047124ff043",
   "metadata": {},
   "source": [
    "\"1. Print Your Name with your Father name and Date of birth using suitable escape sequence charactor\""
   ]
  },
  {
   "cell_type": "code",
   "execution_count": 4,
   "id": "f1838145-6b1c-4aa0-a33c-4e29d656d4cd",
   "metadata": {},
   "outputs": [
    {
     "name": "stdout",
     "output_type": "stream",
     "text": [
      "Name:khizar Father\n",
      "name:khurshid Akber\n",
      "Date of birth 25-july-2025\n"
     ]
    }
   ],
   "source": [
    "print('Name:khizar Father\\nname:khurshid Akber\\nDate of birth 25-july-2025')\n",
    "`"
   ]
  },
  {
   "cell_type": "raw",
   "id": "eab87438-8917-4448-89ba-de07e9a3aade",
   "metadata": {},
   "source": [
    "2. Write your small bio using variables and print it using print function\""
   ]
  },
  {
   "cell_type": "code",
   "execution_count": 13,
   "id": "0d95629d-d1ea-43ae-82f1-cbc8a43925aa",
   "metadata": {},
   "outputs": [
    {
     "name": "stdout",
     "output_type": "stream",
     "text": [
      "my name is khizar  my height is approximately166cm my father n ame is khurshid akber and my aim for this course is data eng\n"
     ]
    }
   ],
   "source": [
    "name ='khizar'\n",
    "height ='166cm'\n",
    "father_name= 'khurshid akber'\n",
    "aim= 'data eng'\n",
    "print(f\"my name is {name}  my height is approximately{height} my father n ame is {father_name} and my aim for this course is {aim}\")"
   ]
  },
  {
   "cell_type": "markdown",
   "id": "1cb8e930-f5b0-40a8-abc9-eac3c44a0b79",
   "metadata": {},
   "source": [
    "3. Write a program in which use all the operators we can use in Python\"\n",
    "   \n"
   ]
  },
  {
   "cell_type": "code",
   "execution_count": 14,
   "id": "46a6eb8a-43e9-460d-bbf4-f9abde112017",
   "metadata": {},
   "outputs": [
    {
     "name": "stdout",
     "output_type": "stream",
     "text": [
      "Arithmetic Operators:\n",
      "15\n",
      "5\n",
      "50\n",
      "2.0\n",
      "0\n",
      "100000\n",
      "2\n",
      "\n",
      "Comparison Operators:\n",
      "False\n",
      "True\n",
      "True\n",
      "False\n",
      "True\n",
      "False\n",
      "\n",
      "Assignment Operators:\n",
      "15\n",
      "10\n",
      "50\n",
      "10.0\n",
      "\n",
      "Logical Operators:\n",
      "True\n",
      "True\n",
      "True\n",
      "\n",
      "Bitwise Operators:\n",
      "0\n",
      "15\n",
      "15\n",
      "-11\n",
      "20\n",
      "5\n",
      "\n",
      "Membership Operators:\n",
      "True\n",
      "False\n",
      "\n",
      "Identity Operators:\n",
      "True\n",
      "True\n"
     ]
    }
   ],
   "source": [
    "f = 10\n",
    "g = 5\n",
    "list1 = [1, 5, 10]\n",
    "\n",
    "# Arithmetic Operators\n",
    "print(\"Arithmetic Operators:\")\n",
    "print(f + g)\n",
    "print(f - g)\n",
    "print(f * g)\n",
    "print(f / g)\n",
    "print(f % g)\n",
    "print(f ** g)\n",
    "print(f // g)\n",
    "\n",
    "# Comparison Operators\n",
    "print(\"\\nComparison Operators:\")\n",
    "print(f == g)\n",
    "print(f != g)\n",
    "print(f > g)\n",
    "print(f < g)\n",
    "print(f >= g)\n",
    "print(f <= g)\n",
    "\n",
    "# Assignment Operators\n",
    "print(\"\\nAssignment Operators:\")\n",
    "x = f\n",
    "x += g\n",
    "print(x)\n",
    "x -= g\n",
    "print(x)\n",
    "x *= g\n",
    "print(x)\n",
    "x /= g\n",
    "print(x)\n",
    "\n",
    "# Logical Operators\n",
    "print(\"\\nLogical Operators:\")\n",
    "print(f > 0 and g > 0)\n",
    "print(f > 0 or g < 0)\n",
    "print(not(f < g))\n",
    "\n",
    "# Bitwise Operators\n",
    "print(\"\\nBitwise Operators:\")\n",
    "print(f & g)\n",
    "print(f | g)\n",
    "print(f ^ g)\n",
    "print(~f)\n",
    "print(f << 1)\n",
    "print(f >> 1)\n",
    "\n",
    "# Membership Operators\n",
    "print(\"\\nMembership Operators:\")\n",
    "print(f in list1)\n",
    "print(g not in list1)\n",
    "\n",
    "# Identity Operators\n",
    "print(\"\\nIdentity Operators:\")\n",
    "c = f\n",
    "print(f is c)\n",
    "print(f is not g)"
   ]
  },
  {
   "cell_type": "markdown",
   "id": "d4962da1-a2fd-45ac-84b6-882e3be860f2",
   "metadata": {},
   "source": [
    "4. Completes the following steps of small task:\\n\",\n",
    "    \"    - Mention Marks of English , Islamiat and Maths out of 100 in 3 different variables\\n\",\n",
    "    \"    - Mention Variable of Total Marks and assign 300 to it\\n\",\n",
    "    \"    - Calculate Percentage\""
   ]
  },
  {
   "cell_type": "code",
   "execution_count": 18,
   "id": "86aa6890-28fb-4ec6-b124-169bdd1bd15e",
   "metadata": {},
   "outputs": [
    {
     "name": "stdout",
     "output_type": "stream",
     "text": [
      "Marks in English: 85\n",
      "Marks in Islamiat: 90\n",
      "Marks in Maths: 95\n",
      "Total Marks: 300\n",
      "Obtained Marks: 270\n",
      "Percentage: 90.0 %\n"
     ]
    }
   ],
   "source": [
    "english_marks = 85\n",
    "islamiat_marks = 90\n",
    "maths_marks = 95\n",
    "\n",
    "total_marks = 300\n",
    "\n",
    "obtained_marks = english_marks + islamiat_marks + maths_marks\n",
    "percentage = (obtained_marks / total_marks) * 100\n",
    "\n",
    "print(\"Marks in English:\", english_marks)\n",
    "print(\"Marks in Islamiat:\", islamiat_marks)\n",
    "print(\"Marks in Maths:\", maths_marks)\n",
    "print(\"Total Marks:\", total_marks)\n",
    "print(\"Obtained Marks:\", obtained_marks)\n",
    "print(\"Percentage:\", percentage, \"%\")\n"
   ]
  },
  {
   "cell_type": "markdown",
   "id": "628d9ce5-52cc-48a0-957e-90dc587c7f7f",
   "metadata": {},
   "source": [
    "1) A company decided to give bonus of 5% to employee if his/her year of service is more than 5 years.\\n\",\n",
    "    \"Ask user for their salary and year of service and print the net bonus amount.\""
   ]
  },
  {
   "cell_type": "code",
   "execution_count": 20,
   "id": "7b0e667f-ca3f-44ab-b1ce-2a1d2590de6a",
   "metadata": {},
   "outputs": [
    {
     "name": "stdin",
     "output_type": "stream",
     "text": [
      "year of services:  1\n"
     ]
    },
    {
     "name": "stdout",
     "output_type": "stream",
     "text": [
      "No bonus, since your service is  less then requirement.\n"
     ]
    }
   ],
   "source": [
    "years = int(input(\"year of services: \"))\n",
    "if years>= 5:\n",
    "    salary = int(input(\"salary: \"))\n",
    "    bonus = (5 / 100) * salary\n",
    "    print(\"Your bonus is:\", bonus)\n",
    "else:\n",
    "    print(\"No bonus, since your service is  less then requirement.\")"
   ]
  },
  {
   "cell_type": "markdown",
   "id": "34b771a5-55d9-4492-a334-b6d2e9f3584a",
   "metadata": {},
   "source": [
    "\"2) Write a program to check whether a person is eligible for voting or not. (accept age from user) if age is greater than 17 eligible otherwise not eligible\""
   ]
  },
  {
   "cell_type": "code",
   "execution_count": 1,
   "id": "ce08e38c-a8f2-4b6d-8e88-cb7aab28b1d1",
   "metadata": {},
   "outputs": [
    {
     "name": "stdin",
     "output_type": "stream",
     "text": [
      "Enter your age:  12\n"
     ]
    },
    {
     "name": "stdout",
     "output_type": "stream",
     "text": [
      "You are not eligible to vote.\n"
     ]
    }
   ],
   "source": [
    "age = int(input(\"Enter  age: \"))\n",
    "\n",
    "if age > 17:\n",
    "    print(\"You are eligible to vote.\")\n",
    "else:\n",
    "    print(\"You are not eligible to vote.\")\n"
   ]
  },
  {
   "cell_type": "markdown",
   "id": "c6e40da6-276e-48a5-91e0-02ed496ea7a3",
   "metadata": {},
   "source": [
    "\"3) Write a program to check whether a number entered by user is even or odd.\""
   ]
  },
  {
   "cell_type": "code",
   "execution_count": 2,
   "id": "fa4502a9-8b7f-4946-baf1-d591e488b455",
   "metadata": {},
   "outputs": [
    {
     "name": "stdin",
     "output_type": "stream",
     "text": [
      "Enter a number:  44\n"
     ]
    },
    {
     "name": "stdout",
     "output_type": "stream",
     "text": [
      "The number is even.\n"
     ]
    }
   ],
   "source": [
    "number = int(input(\"Enter a number: \"))\n",
    "\n",
    "if number % 2 == 0:\n",
    "    print(\"The number is even.\")\n",
    "else:\n",
    "    print(\"The number is odd.\")\n"
   ]
  },
  {
   "cell_type": "markdown",
   "id": "a44c58ee-a28f-4db9-aaeb-db3cb7adac22",
   "metadata": {},
   "source": [
    "4) Write a program to check whether a number is divisible by 7 or not."
   ]
  },
  {
   "cell_type": "code",
   "execution_count": 4,
   "id": "5f8ee3c9-06e1-40e2-b29b-1664f2b6d5d6",
   "metadata": {},
   "outputs": [
    {
     "name": "stdin",
     "output_type": "stream",
     "text": [
      "Enter a number:  77\n"
     ]
    },
    {
     "name": "stdout",
     "output_type": "stream",
     "text": [
      "The number is divisible by 7.\n"
     ]
    }
   ],
   "source": [
    "number = int(input(\"Enter a number: \"))\n",
    "\n",
    "if number % 7 == 0:\n",
    "    print(\"The number is divisible by 7.\")\n",
    "else:\n",
    "    print(\"The number is not divisible by 7.\")\n"
   ]
  },
  {
   "cell_type": "markdown",
   "id": "e0ed3849-411c-4436-a01a-1ed3c250570a",
   "metadata": {},
   "source": [
    "5) Write a program to display \\n\",\n",
    "    \"\\\"Hello\\\" if a number entered by user is a multiple of five , otherwise print \\\"Bye\\\".\"\n",
    "   ]\n"
   ]
  },
  {
   "cell_type": "code",
   "execution_count": 6,
   "id": "16bfa960-76e2-4e53-a898-1a840bed11e2",
   "metadata": {},
   "outputs": [
    {
     "name": "stdin",
     "output_type": "stream",
     "text": [
      "Enter a number:  22\n"
     ]
    },
    {
     "name": "stdout",
     "output_type": "stream",
     "text": [
      "Bye\n"
     ]
    }
   ],
   "source": [
    "\n",
    "number = int(input(\"Enter a number: \"))\n",
    "\n",
    "if number % 5 == 0:\n",
    "    print(\"Hello\")\n",
    "else:\n",
    "    print(\"Bye\")\n"
   ]
  },
  {
   "cell_type": "markdown",
   "id": "ccf92116-a902-46c5-9678-58d8310217d3",
   "metadata": {},
   "source": [
    "7) Write a program to display the last digit of a number.\\n\""
   ]
  },
  {
   "cell_type": "code",
   "execution_count": 7,
   "id": "ef2b131b-1e83-4da5-a0a5-4eec2123bacf",
   "metadata": {},
   "outputs": [
    {
     "name": "stdin",
     "output_type": "stream",
     "text": [
      "Enter a number:  89\n"
     ]
    },
    {
     "name": "stdout",
     "output_type": "stream",
     "text": [
      "The last digit is: 9\n"
     ]
    }
   ],
   "source": [
    "\n",
    "number = int(input(\"Enter a number: \"))\n",
    "\n",
    "last_digit = abs(number) % 10\n",
    "\n",
    "print(\"The last digit is:\", last_digit)\n"
   ]
  },
  {
   "cell_type": "markdown",
   "id": "53fc83a6-90d1-432f-9430-b90d32ebcae8",
   "metadata": {},
   "source": [
    "Take values of length and breadth of a rectangle from user and print if it is square or rectangle.\""
   ]
  },
  {
   "cell_type": "code",
   "execution_count": 8,
   "id": "b14b9fa6-9de4-489b-8362-a8e51705e82d",
   "metadata": {},
   "outputs": [
    {
     "name": "stdin",
     "output_type": "stream",
     "text": [
      "Enter the length:  2\n",
      "Enter the breadth:  2\n"
     ]
    },
    {
     "name": "stdout",
     "output_type": "stream",
     "text": [
      "It is a square.\n"
     ]
    }
   ],
   "source": [
    "length = float(input(\"Enter the length: \"))\n",
    "breadth = float(input(\"Enter the breadth: \"))\n",
    "\n",
    "if length == breadth:\n",
    "    print(\"It is a square.\")\n",
    "else:\n",
    "    print(\"It is a rectangle.\")\n"
   ]
  },
  {
   "cell_type": "markdown",
   "id": "43c2ea37-348a-4668-ab6a-2e08f1b6593a",
   "metadata": {},
   "source": [
    "Take two int values from user and print greatest among them."
   ]
  },
  {
   "cell_type": "code",
   "execution_count": 9,
   "id": "2a982273-7d4b-4356-ac23-dc1757bb098d",
   "metadata": {},
   "outputs": [
    {
     "name": "stdin",
     "output_type": "stream",
     "text": [
      "Enter the first number:  34\n",
      "Enter the second number:  23\n"
     ]
    },
    {
     "name": "stdout",
     "output_type": "stream",
     "text": [
      "The greatest number is: 34\n"
     ]
    }
   ],
   "source": [
    "num1 = int(input(\"Enter the first number: \"))\n",
    "num2 = int(input(\"Enter the second number: \"))\n",
    "\n",
    "if num1 > num2:\n",
    "    print(\"The greatest number is:\", num1)\n",
    "elif num2 > num1:\n",
    "    print(\"The greatest number is:\", num2)\n",
    "else:\n",
    "    print(\"Both numbers are equal.\")\n"
   ]
  },
  {
   "cell_type": "markdown",
   "id": "1327da5b-52a4-4d44-8ae3-3cd3ca60cdad",
   "metadata": {},
   "source": [
    " A shop will give discount of 10% if the cost of purchased quantity is more than 1000.\\n\",\n",
    "    \"Ask user for quantity\\n\",\n",
    "    \"Suppose, one unit will cost 100.\\n\",\n",
    "    \"Judge and print total cost for user.\"\n",
    "   ]"
   ]
  },
  {
   "cell_type": "code",
   "execution_count": 10,
   "id": "f0c6c68a-6b76-4178-85dd-3c93fc92fc44",
   "metadata": {},
   "outputs": [
    {
     "name": "stdin",
     "output_type": "stream",
     "text": [
      "Enter the quantity you want to purchase:  23\n"
     ]
    },
    {
     "name": "stdout",
     "output_type": "stream",
     "text": [
      "You got a 10% discount of ₹230.00.\n",
      "Total cost to be paid: ₹2070.00\n"
     ]
    }
   ],
   "source": [
    "unit_price = 100\n",
    "\n",
    "quantity = int(input(\"Enter the quantity you want to purchase: \"))\n",
    "\n",
    "total_cost = unit_price * quantity\n",
    "\n",
    "if total_cost > 1000:\n",
    "    discount = total_cost * 0.10 \n",
    "    final_cost = total_cost - discount\n",
    "    print(f\"You got a 10% discount of ₹{discount:.2f}.\")\n",
    "else:\n",
    "    final_cost = total_cost\n",
    "\n",
    "print(f\"Total cost to be paid: ₹{final_cost:.2f}\")\n"
   ]
  },
  {
   "cell_type": "markdown",
   "id": "73a1a9b9-34a9-48bd-aa85-aefd57c6eee1",
   "metadata": {},
   "source": [
    "12) A school has following rules for grading system\",\n",
    "    \"\\n\",\n",
    "    \"a. Below 25 - F\\n\",\n",
    "    \"\\n\",\n",
    "    \"b. 25 to 45 - E\\n\",\n",
    "    \"\\n\",\n",
    "    \"c. 45 to 50 - D\\n\",\n",
    "    \"\\n\",\n",
    "    \"d. 50 to 60 - C\\n\",\n",
    "    \"\\n\",\n",
    "    \"e. 60 to 80 - B\\n\",\n",
    "    \"\\n\",\n",
    "    \"f. Above 80 - A\\n\",\n",
    "    \"\\n\",\n",
    "    \"Ask user to enter marks and print the corresponding grade.\"\n",
    "   ]\n"
   ]
  },
  {
   "cell_type": "code",
   "execution_count": 11,
   "id": "1d2e0609-68b5-47d0-b9cd-b1923ddc5f3e",
   "metadata": {},
   "outputs": [
    {
     "name": "stdin",
     "output_type": "stream",
     "text": [
      "Enter your marks (0 to 100):  66\n"
     ]
    },
    {
     "name": "stdout",
     "output_type": "stream",
     "text": [
      "Grade: B\n"
     ]
    }
   ],
   "source": [
    "marks = float(input(\"Enter your marks (0 to 100): \"))\n",
    "\n",
    "if marks < 0 or marks > 100:\n",
    "    print(\"Invalid marks! Please enter a value between 0 and 100.\")\n",
    "elif marks < 25:\n",
    "    print(\"Grade: F\")\n",
    "elif marks <= 45:\n",
    "    print(\"Grade: E\")\n",
    "elif marks <= 50:\n",
    "    print(\"Grade: D\")\n",
    "elif marks <= 60:\n",
    "    print(\"Grade: C\")\n",
    "elif marks <= 80:\n",
    "    print(\"Grade: B\")\n",
    "else:\n",
    "    print(\"Grade: A\")\n"
   ]
  },
  {
   "cell_type": "markdown",
   "id": "27c68797-b28f-47f3-b469-27ec1ddb2da6",
   "metadata": {},
   "source": [
    "A student will not be allowed to sit in exam if his/her attendence is less than 75%.\\n\",\n",
    "    \"\\n\",\n",
    "    \"Take following input from user\\n\",\n",
    "    \"\\n\",\n",
    "    \"- Number of classes held\\n\",\n",
    "    \"\\n\",\n",
    "    \"- Number of classes attended.\\n\",\n",
    "    \"\\n\",\n",
    "    \"And print\\n\",\n",
    "    \"\\n\",\n",
    "    \"- percentage of class attended\\n\",\n",
    "    \"\\n\",\n",
    "    \"- Is student is allowed to sit in exam or not.\\n\"\n",
    "   ]\n"
   ]
  },
  {
   "cell_type": "code",
   "execution_count": 12,
   "id": "b8fe7efc-972a-4971-8893-51e8e35d1bc6",
   "metadata": {},
   "outputs": [
    {
     "name": "stdin",
     "output_type": "stream",
     "text": [
      "Enter the number of classes held:  12\n",
      "Enter the number of classes attended:  1\n"
     ]
    },
    {
     "name": "stdout",
     "output_type": "stream",
     "text": [
      "Attendance percentage: 8.33%\n",
      "You are NOT allowed to sit in the exam.\n"
     ]
    }
   ],
   "source": [
    "classes_held = int(input(\"Enter the number of classes held: \"))\n",
    "classes_attended = int(input(\"Enter the number of classes attended: \"))\n",
    "\n",
    "if classes_held <= 0 or classes_attended < 0 or classes_attended > classes_held:\n",
    "    print(\"Invalid input. Please check the numbers entered.\")\n",
    "else:\n",
    "\n",
    "    attendance_percentage = (classes_attended / classes_held) * 100\n",
    "\n",
    "    \n",
    "    print(f\"Attendance percentage: {attendance_percentage:.2f}%\")\n",
    "\n",
    "    \n",
    "    if attendance_percentage >= 75:\n",
    "        print(\"You are allowed to sit in the exam.\")\n",
    "    else:\n",
    "        print(\"You are NOT allowed to sit in the exam.\")\n"
   ]
  },
  {
   "cell_type": "markdown",
   "id": "c3cd4b49-267a-425a-9c51-060ee8e8809d",
   "metadata": {},
   "source": [
    "Modify the above question to allow student to sit if he/she has medical cause. Ask user if he/she has medical cause or not ( 'Y' or 'N' ) and print accordingly.\"\n",
    "   ]\n"
   ]
  },
  {
   "cell_type": "code",
   "execution_count": 13,
   "id": "4f0ee0f5-e6e5-4070-bf5c-23b7a6dbfcff",
   "metadata": {},
   "outputs": [
    {
     "name": "stdin",
     "output_type": "stream",
     "text": [
      "Enter the number of classes held:  12\n",
      "Enter the number of classes attended:  1\n",
      "Do you have a medical cause? (Y/N):  1\n"
     ]
    },
    {
     "name": "stdout",
     "output_type": "stream",
     "text": [
      "Invalid input for medical cause. Enter 'Y' or 'N'.\n"
     ]
    }
   ],
   "source": [
    "classes_held = int(input(\"Enter the number of classes held: \"))\n",
    "classes_attended = int(input(\"Enter the number of classes attended: \"))\n",
    "\n",
    "medical_cause = input(\"Do you have a medical cause? (Y/N): \").strip().upper()\n",
    "\n",
    "if classes_held <= 0 or classes_attended < 0 or classes_attended > classes_held:\n",
    "    print(\"Invalid input. Please check the numbers entered.\")\n",
    "elif medical_cause not in ['Y', 'N']:\n",
    "    print(\"Invalid input for medical cause. Enter 'Y' or 'N'.\")\n",
    "else:\n",
    "\n",
    "    attendance_percentage = (classes_attended / classes_held) * 100\n",
    "    print(f\"Attendance percentage: {attendance_percentage:.2f}%\")\n",
    "\n",
    "    if attendance_percentage >= 75 or medical_cause == 'Y':\n",
    "        print(\"You are allowed to sit in the exam.\")\n",
    "    else:\n",
    "        print(\"You are NOT allowed to sit in the exam.\")\n"
   ]
  },
  {
   "cell_type": "markdown",
   "id": "303bf37e-8914-4fcf-a007-fe0e4481b3a1",
   "metadata": {},
   "source": [
    " Write a program to check if a year is leap year or not.\\n\",\n",
    "    \"\\n\",\n",
    "    \"If a year is divisible by 4 then it is leap year but if the year is century year like 2000, 1900, 2100 then it must be divisible by 400.\""
   ]
  },
  {
   "cell_type": "code",
   "execution_count": 14,
   "id": "fec34038-d7cd-4111-958a-6b5ed12929be",
   "metadata": {},
   "outputs": [
    {
     "name": "stdin",
     "output_type": "stream",
     "text": [
      "Enter a year to check if it's a leap year:  2013\n"
     ]
    },
    {
     "name": "stdout",
     "output_type": "stream",
     "text": [
      "2013 is NOT a leap year.\n"
     ]
    }
   ],
   "source": [
    "# Ask the user to enter a year\n",
    "year = int(input(\"Enter a year to check if it's a leap year: \"))\n",
    "\n",
    "# Check leap year conditions\n",
    "if (year % 4 == 0) and (year % 100 != 0 or year % 400 == 0):\n",
    "    print(f\"{year} is a leap year.\")\n",
    "else:\n",
    "    print(f\"{year} is NOT a leap year.\")\n"
   ]
  },
  {
   "cell_type": "code",
   "execution_count": null,
   "id": "60d48931-3d53-46d5-a4ee-9de30ad65e70",
   "metadata": {},
   "outputs": [],
   "source": []
  }
 ],
 "metadata": {
  "kernelspec": {
   "display_name": "Python 3 (ipykernel)",
   "language": "python",
   "name": "python3"
  },
  "language_info": {
   "codemirror_mode": {
    "name": "ipython",
    "version": 3
   },
   "file_extension": ".py",
   "mimetype": "text/x-python",
   "name": "python",
   "nbconvert_exporter": "python",
   "pygments_lexer": "ipython3",
   "version": "3.13.5"
  }
 },
 "nbformat": 4,
 "nbformat_minor": 5
}
